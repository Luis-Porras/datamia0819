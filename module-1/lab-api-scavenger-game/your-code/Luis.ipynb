{
 "cells": [
  {
   "cell_type": "code",
   "execution_count": 1,
   "metadata": {},
   "outputs": [],
   "source": [
    "import requests\n",
    "import pandas as pd"
   ]
  },
  {
   "cell_type": "code",
   "execution_count": 8,
   "metadata": {},
   "outputs": [],
   "source": []
  },
  {
   "cell_type": "code",
   "execution_count": 39,
   "metadata": {},
   "outputs": [
    {
     "name": "stdout",
     "output_type": "stream",
     "text": [
      "['Jupyter Notebook']\n"
     ]
    }
   ],
   "source": [
    "import requests\n",
    "import json\n",
    "\n",
    "####\n",
    "# inputs\n",
    "####\n",
    "username = \"Luis-Porras\"\n",
    "\n",
    "# from https://github.com/user/settings/tokens\n",
    "token = '241f3845a03b8ffdaff3ef5fdb94655692bf4a4f'\n",
    "\n",
    "repos_url = 'https://api.github.com/repos/ironhack-datalabs/datamia0819/forks'\n",
    "\n",
    "# create a re-usable session object with the user creds in-built\n",
    "gh_session = requests.Session()\n",
    "gh_session.auth = (username, token)\n",
    "\n",
    "# get the list of repos belonging to me\n",
    "repos = json.loads(gh_session.get(repos_url).text)\n",
    "\n",
    "# print the repo names\n",
    "langs = []\n",
    "for repo in repos:\n",
    "    if repo[\"language\"] not in langs:\n",
    "        langs.append(repo[\"language\"])\n",
    "print(langs)"
   ]
  },
  {
   "cell_type": "code",
   "execution_count": null,
   "metadata": {},
   "outputs": [],
   "source": []
  }
 ],
 "metadata": {
  "kernelspec": {
   "display_name": "Python 3",
   "language": "python",
   "name": "python3"
  },
  "language_info": {
   "codemirror_mode": {
    "name": "ipython",
    "version": 3
   },
   "file_extension": ".py",
   "mimetype": "text/x-python",
   "name": "python",
   "nbconvert_exporter": "python",
   "pygments_lexer": "ipython3",
   "version": "3.7.2"
  }
 },
 "nbformat": 4,
 "nbformat_minor": 2
}

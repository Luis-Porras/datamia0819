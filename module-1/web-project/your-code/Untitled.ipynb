{
 "cells": [
  {
   "cell_type": "code",
   "execution_count": 2,
   "metadata": {},
   "outputs": [],
   "source": [
    "import pandas as pd\n",
    "import requests\n",
    "import numpy as np\n",
    "import json\n",
    "from bs4 import BeautifulSoup as bs\n",
    "from lxml import html\n",
    "from lxml.html import fromstring\n",
    "import re\n"
   ]
  },
  {
   "cell_type": "code",
   "execution_count": null,
   "metadata": {},
   "outputs": [],
   "source": [
    "\n",
    "url = \"https://free-nba.p.rapidapi.com/teams\"\n",
    "\n",
    "#querystring = {\"page\":\"0\"}\n",
    "\n",
    "headers = {\n",
    "    'x-rapidapi-host': \"free-nba.p.rapidapi.com\",\n",
    "    'x-rapidapi-key': \"8150ad5cc2msh35881e55476dacap1f1b8djsna33ec8a45326\"\n",
    "    }\n",
    "\n",
    "response = requests.request(\"GET\", url, headers=headers)"
   ]
  },
  {
   "cell_type": "code",
   "execution_count": null,
   "metadata": {},
   "outputs": [],
   "source": [
    "r = response.json()\n",
    "teams = pd.DataFrame(r[\"data\"])\n",
    "teams = teams.drop(\"full_name\",axis=1)\n"
   ]
  },
  {
   "cell_type": "code",
   "execution_count": null,
   "metadata": {},
   "outputs": [],
   "source": [
    "teams.head()"
   ]
  },
  {
   "cell_type": "code",
   "execution_count": null,
   "metadata": {},
   "outputs": [],
   "source": [
    "teams.to_csv(\"teams.csv\")"
   ]
  },
  {
   "cell_type": "code",
   "execution_count": 3,
   "metadata": {},
   "outputs": [],
   "source": [
    "url = \"https://www.msn.com/en-us/sports/nba/schedule/sp-ss-inseason\"\n",
    "html = requests.get(url).content\n",
    "page = bs(html,\"lxml\")"
   ]
  },
  {
   "cell_type": "code",
   "execution_count": 38,
   "metadata": {},
   "outputs": [],
   "source": [
    "teams = page.find_all(\"td\",{\"class\":\"teamname\"})\n",
    "schedule = {}\n",
    "team_list = []\n",
    "for i in range(len(teams)):\n",
    "    line = str(teams[i])\n",
    "    line = line.split(\"v>\")\n",
    "    line = re.sub(\"</di\",\"\",line[1])\n",
    "    if i % 2 == 0:\n",
    "        team_list.append(line)\n",
    "#team_list"
   ]
  },
  {
   "cell_type": "code",
   "execution_count": 42,
   "metadata": {},
   "outputs": [
    {
     "name": "stdout",
     "output_type": "stream",
     "text": [
      "{'home': 'New Orleans Pelicans', 'away': 'Toronto Raptors'}\n",
      "{'home': 'Los Angeles Lakers', 'away': 'Los Angeles Clippers'}\n",
      "{'home': 'Detroit Pistons', 'away': 'Indiana Pacers'}\n",
      "{'home': 'Chicago Bulls', 'away': 'Charlotte Hornets'}\n",
      "{'home': 'Cleveland Cavaliers', 'away': 'Orlando Magic'}\n",
      "{'home': 'Memphis Grizzlies', 'away': 'Miami Heat'}\n",
      "{'home': 'Minnesota Timberwolves', 'away': 'Brooklyn Nets'}\n",
      "{'home': 'Boston Celtics', 'away': 'Philadelphia 76ers'}\n",
      "{'home': 'New York Knicks', 'away': 'San Antonio Spurs'}\n",
      "{'home': 'Washington Wizards', 'away': 'Dallas Mavericks'}\n",
      "{'home': 'Oklahoma City Thunder', 'away': 'Utah Jazz'}\n",
      "{'home': 'Denver Nuggets', 'away': 'Portland Trail Blazers'}\n",
      "{'home': 'Sacramento Kings', 'away': 'Phoenix Suns'}\n",
      "{'home': 'Atlanta Hawks', 'away': 'Detroit Pistons'}\n",
      "{'home': 'Milwaukee Bucks', 'away': 'Houston Rockets'}\n",
      "{'home': 'Los Angeles Clippers', 'away': 'Golden State Warriors'}\n",
      "{'home': 'Toronto Raptors', 'away': 'Boston Celtics'}\n",
      "{'home': 'Minnesota Timberwolves', 'away': 'Charlotte Hornets'}\n",
      "{'home': 'New York Knicks', 'away': 'Brooklyn Nets'}\n",
      "{'home': 'Washington Wizards', 'away': 'Oklahoma City Thunder'}\n",
      "{'home': 'Dallas Mavericks', 'away': 'New Orleans Pelicans'}\n",
      "{'home': 'Chicago Bulls', 'away': 'Memphis Grizzlies'}\n",
      "{'home': 'Phoenix Suns', 'away': 'Denver Nuggets'}\n",
      "{'home': 'Portland Trail Blazers', 'away': 'Sacramento Kings'}\n",
      "{'home': 'Utah Jazz', 'away': 'Los Angeles Lakers'}\n",
      "{'game1': {'home': 'New Orleans Pelicans', 'away': 'Toronto Raptors'}, 'game2': {'home': 'Los Angeles Lakers', 'away': 'Los Angeles Clippers'}, 'game3': {'home': 'Detroit Pistons', 'away': 'Indiana Pacers'}, 'game4': {'home': 'Chicago Bulls', 'away': 'Charlotte Hornets'}, 'game5': {'home': 'Cleveland Cavaliers', 'away': 'Orlando Magic'}, 'game6': {'home': 'Memphis Grizzlies', 'away': 'Miami Heat'}, 'game7': {'home': 'Minnesota Timberwolves', 'away': 'Brooklyn Nets'}, 'game8': {'home': 'Boston Celtics', 'away': 'Philadelphia 76ers'}, 'game9': {'home': 'New York Knicks', 'away': 'San Antonio Spurs'}, 'game10': {'home': 'Washington Wizards', 'away': 'Dallas Mavericks'}, 'game11': {'home': 'Oklahoma City Thunder', 'away': 'Utah Jazz'}, 'game12': {'home': 'Denver Nuggets', 'away': 'Portland Trail Blazers'}, 'game13': {'home': 'Sacramento Kings', 'away': 'Phoenix Suns'}, 'game14': {'home': 'Atlanta Hawks', 'away': 'Detroit Pistons'}, 'game15': {'home': 'Milwaukee Bucks', 'away': 'Houston Rockets'}, 'game16': {'home': 'Los Angeles Clippers', 'away': 'Golden State Warriors'}, 'game17': {'home': 'Toronto Raptors', 'away': 'Boston Celtics'}, 'game18': {'home': 'Minnesota Timberwolves', 'away': 'Charlotte Hornets'}, 'game19': {'home': 'New York Knicks', 'away': 'Brooklyn Nets'}, 'game20': {'home': 'Washington Wizards', 'away': 'Oklahoma City Thunder'}, 'game21': {'home': 'Dallas Mavericks', 'away': 'New Orleans Pelicans'}, 'game22': {'home': 'Chicago Bulls', 'away': 'Memphis Grizzlies'}, 'game23': {'home': 'Phoenix Suns', 'away': 'Denver Nuggets'}, 'game24': {'home': 'Portland Trail Blazers', 'away': 'Sacramento Kings'}, 'game25': {'home': 'Utah Jazz', 'away': 'Los Angeles Lakers'}}\n"
     ]
    }
   ],
   "source": [
    "counter = 1\n",
    "for i in range(0,len(team_list),2):\n",
    "    schedule[\"game\"+str(counter)] = {}\n",
    "    schedule[\"game\"+str(counter)][\"home\"] = team_list[i]\n",
    "    schedule[\"game\"+str(counter)][\"away\"] = team_list[i+1]\n",
    "    print(schedule[\"game\"+str(counter)])\n",
    "    counter+=1\n",
    "\n",
    "print(schedule)"
   ]
  },
  {
   "cell_type": "code",
   "execution_count": 49,
   "metadata": {},
   "outputs": [],
   "source": [
    "week1 = pd.DataFrame.from_dict(schedule)"
   ]
  },
  {
   "cell_type": "code",
   "execution_count": 53,
   "metadata": {},
   "outputs": [],
   "source": [
    "week1 = week1.T\n",
    "week1.to_csv(\"week1games.csv\")"
   ]
  },
  {
   "cell_type": "code",
   "execution_count": null,
   "metadata": {},
   "outputs": [],
   "source": []
  }
 ],
 "metadata": {
  "kernelspec": {
   "display_name": "Python 3",
   "language": "python",
   "name": "python3"
  },
  "language_info": {
   "codemirror_mode": {
    "name": "ipython",
    "version": 3
   },
   "file_extension": ".py",
   "mimetype": "text/x-python",
   "name": "python",
   "nbconvert_exporter": "python",
   "pygments_lexer": "ipython3",
   "version": "3.7.2"
  }
 },
 "nbformat": 4,
 "nbformat_minor": 2
}

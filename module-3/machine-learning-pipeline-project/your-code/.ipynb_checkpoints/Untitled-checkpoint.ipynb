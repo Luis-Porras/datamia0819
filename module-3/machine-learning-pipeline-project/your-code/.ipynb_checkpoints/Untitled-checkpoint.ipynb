{
 "cells": [
  {
   "cell_type": "code",
   "execution_count": 10,
   "metadata": {},
   "outputs": [],
   "source": [
    "import pandas as pd\n",
    "import numpy as np \n",
    "import matplotlib.pyplot as plt \n",
    "from sklearn import tree, pipeline, preprocessing\n",
    "from sklearn.feature_selection import SelectKBest\n",
    "from sklearn.feature_selection import chi2\n",
    "import seaborn as sns\n"
   ]
  },
  {
   "cell_type": "code",
   "execution_count": null,
   "metadata": {},
   "outputs": [],
   "source": []
  },
  {
   "cell_type": "code",
   "execution_count": 11,
   "metadata": {},
   "outputs": [],
   "source": [
    "def csv_to_df(csv_path):\n",
    "    df = pd.read_csv(csv_path,sep = \";\")\n",
    "    return df"
   ]
  },
  {
   "cell_type": "code",
   "execution_count": 19,
   "metadata": {},
   "outputs": [],
   "source": [
    "csv_path = \"../../../../../downloads/bitcoin-tweets-and-price/df_final.csv\""
   ]
  },
  {
   "cell_type": "code",
   "execution_count": 13,
   "metadata": {},
   "outputs": [],
   "source": [
    "def show_df_info(dataframe):\n",
    "    # get the data type\n",
    "    print(type(dataframe))\n",
    "    print(\"amount of entries is %s\" % dataframe.size)\n",
    "    print(\"dimensions= %i\" % dataframe.ndim)\n",
    "    print(\"shape is \", end=\"\")\n",
    "    print(dataframe.shape)\n",
    "    print(\"axes: \", end=\"\")\n",
    "    print(dataframe.axes)\n",
    "    print(\"data types of columns:\")\n",
    "    print(dataframe.dtypes)\n",
    "    print(\"features:\",dataframe.columns,\"\\n\")\n",
    "    print(\"nulls:\\n\",dataframe.isnull().sum())\n"
   ]
  },
  {
   "cell_type": "code",
   "execution_count": null,
   "metadata": {},
   "outputs": [],
   "source": [
    "\n"
   ]
  },
  {
   "cell_type": "code",
   "execution_count": 14,
   "metadata": {},
   "outputs": [],
   "source": [
    "def show_collinear(df):\n",
    "    return sns.heatmap(df.corr())\n",
    "\n"
   ]
  },
  {
   "cell_type": "code",
   "execution_count": 21,
   "metadata": {},
   "outputs": [],
   "source": [
    "def slice_df(df):\n",
    "    df = df.dropna()\n",
    "    df = df.drop(columns = [\"Total Volume of Tweets\", \"High\",\"Low\",\"Count_Neutrals\"])\n",
    "    return df.iloc[:,1:], df.iloc[:,0]\n"
   ]
  },
  {
   "cell_type": "code",
   "execution_count": 22,
   "metadata": {},
   "outputs": [
    {
     "name": "stdout",
     "output_type": "stream",
     "text": [
      "<class 'pandas.core.frame.DataFrame'>\n",
      "amount of entries is 206976\n",
      "dimensions= 2\n",
      "shape is (12936, 16)\n",
      "axes: [RangeIndex(start=0, stop=12936, step=1), Index(['Date', 'Compound_Score', 'Total Volume of Tweets', 'Count_Negatives',\n",
      "       'Count_Positives', 'Count_Neutrals', 'Sent_Negatives', 'Sent_Positives',\n",
      "       'Count_News', 'Count_Bots', 'Open', 'High', 'Low', 'Close',\n",
      "       'Volume (BTC)', 'Volume (Currency)'],\n",
      "      dtype='object')]\n",
      "data types of columns:\n",
      "Date                       object\n",
      "Compound_Score            float64\n",
      "Total Volume of Tweets    float64\n",
      "Count_Negatives           float64\n",
      "Count_Positives           float64\n",
      "Count_Neutrals            float64\n",
      "Sent_Negatives            float64\n",
      "Sent_Positives            float64\n",
      "Count_News                float64\n",
      "Count_Bots                float64\n",
      "Open                      float64\n",
      "High                      float64\n",
      "Low                       float64\n",
      "Close                     float64\n",
      "Volume (BTC)               object\n",
      "Volume (Currency)          object\n",
      "dtype: object\n",
      "features: Index(['Date', 'Compound_Score', 'Total Volume of Tweets', 'Count_Negatives',\n",
      "       'Count_Positives', 'Count_Neutrals', 'Sent_Negatives', 'Sent_Positives',\n",
      "       'Count_News', 'Count_Bots', 'Open', 'High', 'Low', 'Close',\n",
      "       'Volume (BTC)', 'Volume (Currency)'],\n",
      "      dtype='object') \n",
      "\n",
      "nulls:\n",
      " Date                        0\n",
      "Compound_Score            578\n",
      "Total Volume of Tweets    578\n",
      "Count_Negatives           578\n",
      "Count_Positives           578\n",
      "Count_Neutrals            578\n",
      "Sent_Negatives            578\n",
      "Sent_Positives            579\n",
      "Count_News                578\n",
      "Count_Bots                578\n",
      "Open                      578\n",
      "High                      578\n",
      "Low                       578\n",
      "Close                     578\n",
      "Volume (BTC)              578\n",
      "Volume (Currency)         578\n",
      "dtype: int64\n"
     ]
    },
    {
     "data": {
      "text/plain": [
       "<matplotlib.axes._subplots.AxesSubplot at 0x11ba38a90>"
      ]
     },
     "execution_count": 22,
     "metadata": {},
     "output_type": "execute_result"
    },
    {
     "data": {
      "image/png": "[encoded data removed]",
      "text/plain": [
       "<Figure size 432x288 with 3 Axes>"
      ]
     },
     "metadata": {
      "needs_background": "light"
     },
     "output_type": "display_data"
    }
   ],
   "source": [
    "show_collinear(btc)\n",
    "csv_to_df(csv_path)\n",
    "show_df_info(btc)\n",
    "X, y = slice_df(btc)\n",
    "show_collinear(btc)"
   ]
  },
  {
   "cell_type": "code",
   "execution_count": null,
   "metadata": {},
   "outputs": [],
   "source": []
  },
  {
   "cell_type": "code",
   "execution_count": null,
   "metadata": {},
   "outputs": [],
   "source": []
  },
  {
   "cell_type": "code",
   "execution_count": null,
   "metadata": {},
   "outputs": [],
   "source": []
  }
 ],
 "metadata": {
  "kernelspec": {
   "display_name": "Python 3",
   "language": "python",
   "name": "python3"
  },
  "language_info": {
   "codemirror_mode": {
    "name": "ipython",
    "version": 3
   },
   "file_extension": ".py",
   "mimetype": "text/x-python",
   "name": "python",
   "nbconvert_exporter": "python",
   "pygments_lexer": "ipython3",
   "version": "3.7.2"
  }
 },
 "nbformat": 4,
 "nbformat_minor": 2
}

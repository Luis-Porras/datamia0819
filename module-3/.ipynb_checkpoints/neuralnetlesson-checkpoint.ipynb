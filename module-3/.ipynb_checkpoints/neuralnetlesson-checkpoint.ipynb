{
 "cells": [
  {
   "cell_type": "code",
   "execution_count": null,
   "metadata": {},
   "outputs": [],
   "source": [
    "import tensorflow as tf\n",
    "import numpy as np\n",
    "import warnings\n",
    "mnist = tf.keras.datasets.mnist\n",
    "(X_train,y_train), (X_test,y_test) = mnist.load_data()\n",
    "# http://yann.lecun.com/exdb/mnist/\n",
    "import matplotlib.pyplot as plt\n",
    "plt.imshow(X_train[0])\n",
    "plt.imshow(X_train[0], cmap=plt.cm.binary_r)\n",
    "plt.show()\n",
    "X_train = tf.keras.utils.normalize(X_train, axis=1)\n",
    "X_test = tf.keras.utils.normalize(X_test, axis=1)\n",
    "model = tf.keras.models.Sequential()\n",
    "model.add(tf.keras.layers.Flatten())\n",
    "model.add(tf.keras.layers.Dense(128, activation=tf.nn.relu))\n",
    "model.add(tf.keras.layers.Dense(128, activation=tf.nn.relu))\n",
    "model.add(tf.keras.layers.Dense(10, activation=tf.nn.softmax))\n",
    "opt = tf.keras.optimizers.Adam(lr=0.001, epsilon=None)\n",
    "model.compile(optimizer = opt, loss = 'sparse_categorical_crossentropy', metrics=['accuracy'])\n",
    "model.fit(X_train, y_train, epochs=4)\n",
    "val_loss, val_acc = model.evaluate(X_test, y_test)\n",
    "print('Accuracy: ', val_acc)\n",
    "print(model.summary)\n",
    "model.save('mnist_predictor.model1')\n",
    "new_model = tf.keras.models.load_model('mnist_predictor.model1')\n",
    "predictions = new_model.predict(X_test)\n",
    "print(np.argmax(predictions[0]))\n",
    "score = model.evaluate(X_test, y_test, verbose=0)\n",
    "print('Test loss:', score[0])\n",
    "print('Test accuracy:', score[1])\n"
   ]
  }
 ],
 "metadata": {
  "kernelspec": {
   "display_name": "Python 3",
   "language": "python",
   "name": "python3"
  },
  "language_info": {
   "codemirror_mode": {
    "name": "ipython",
    "version": 3
   },
   "file_extension": ".py",
   "mimetype": "text/x-python",
   "name": "python",
   "nbconvert_exporter": "python",
   "pygments_lexer": "ipython3",
   "version": "3.7.2"
  }
 },
 "nbformat": 4,
 "nbformat_minor": 2
}

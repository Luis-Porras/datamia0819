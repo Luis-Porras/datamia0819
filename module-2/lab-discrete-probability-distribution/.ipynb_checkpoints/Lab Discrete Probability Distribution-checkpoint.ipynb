{
 "cells": [
  {
   "cell_type": "markdown",
   "metadata": {},
   "source": [
    "# Before your start:\n",
    "\n",
    "    Read the README.md file\n",
    "    Comment as much as you can and use the resources (README.md file)\n",
    "    Happy learning!"
   ]
  },
  {
   "cell_type": "raw",
   "metadata": {},
   "source": [
    "Please note: All calculations must be done in python. \n",
    "Please round the final answer to three decimal places. "
   ]
  },
  {
   "cell_type": "code",
   "execution_count": 51,
   "metadata": {},
   "outputs": [],
   "source": [
    "import numpy as np\n",
    "import pandas as pd\n",
    "import matplotlib.pyplot as plt"
   ]
  },
  {
   "cell_type": "markdown",
   "metadata": {},
   "source": [
    "## Bernoulli's Distribution"
   ]
  },
  {
   "cell_type": "raw",
   "metadata": {},
   "source": [
    "In a basket containing apples and oranges, there are 60 apples and 40 oranges. "
   ]
  },
  {
   "cell_type": "raw",
   "metadata": {},
   "source": [
    "A fruit is picked randomly from the basket. \n",
    "1. What is the probability that the fruit is apple?\n",
    "2. What is the probability that it is an orange?"
   ]
  },
  {
   "cell_type": "code",
   "execution_count": 6,
   "metadata": {},
   "outputs": [
    {
     "name": "stdout",
     "output_type": "stream",
     "text": [
      "probability that the fruit is an apple :  0.6\n",
      "probability that the fruit is an orange :  0.4\n"
     ]
    }
   ],
   "source": [
    "## p = probability that the fruit is an apple \n",
    "## q = probability that the fruit is an orange\n",
    "apples = 60\n",
    "oranges = 40\n",
    "total = apples + oranges\n",
    "p = apples / total\n",
    "q = oranges / total\n",
    "print(\"probability that the fruit is an apple : \",p)\n",
    "print(\"probability that the fruit is an orange : \",q)"
   ]
  },
  {
   "cell_type": "raw",
   "metadata": {},
   "source": [
    "Now we take a random sample of 20 fruits with replacement. \n",
    "What is the probability that the first 5 fruits are apples?"
   ]
  },
  {
   "cell_type": "raw",
   "metadata": {},
   "source": [
    "#Hint: (p**5)*(q**15)"
   ]
  },
  {
   "cell_type": "code",
   "execution_count": 8,
   "metadata": {},
   "outputs": [
    {
     "name": "stdout",
     "output_type": "stream",
     "text": [
      "probability that the first 5 fruits are apples 8.349416423424006e-08\n"
     ]
    }
   ],
   "source": [
    "##Your solution here\n",
    "prob = (p**5)*(q**15)\n",
    "print(\"probability that the first 5 fruits are apples\",prob)"
   ]
  },
  {
   "cell_type": "markdown",
   "metadata": {},
   "source": [
    "## Binomial Distribution"
   ]
  },
  {
   "cell_type": "raw",
   "metadata": {},
   "source": [
    "Similar to the above problem, this time again we pick 20 fruits. \n",
    "What is the probability that this time we picked 5 apples and 15 oranges?\n",
    "Please note that this time we are not asking specifically about the \n",
    "first picks!!"
   ]
  },
  {
   "cell_type": "code",
   "execution_count": 29,
   "metadata": {},
   "outputs": [
    {
     "data": {
      "text/plain": [
       "0.0012944935222876579"
      ]
     },
     "execution_count": 29,
     "metadata": {},
     "output_type": "execute_result"
    }
   ],
   "source": [
    "##Your solutionm here\n",
    "import math\n",
    "def pmf(apples, oranges):\n",
    "    p = .6\n",
    "    q = .4\n",
    "    total = apples + oranges\n",
    "    prob = (p**apples)*(q**oranges)\n",
    "    nci = math.factorial(total)/(math.factorial(total - apples)*math.factorial(total - oranges))\n",
    "    return prob*nci\n",
    "pmf(5,15)"
   ]
  },
  {
   "cell_type": "raw",
   "metadata": {},
   "source": [
    "During the lectures we also talked about CDF \n",
    "Consider the same problem as above except that this time we are \n",
    "interesed in the probability that less than 5 apples were selected. \n",
    "Compute the probability?"
   ]
  },
  {
   "cell_type": "code",
   "execution_count": 38,
   "metadata": {},
   "outputs": [
    {
     "name": "stdout",
     "output_type": "stream",
     "text": [
      "1.0995116277760013e-08\n",
      "3.2985348833280036e-07\n",
      "4.700412208742404e-06\n",
      "4.230370987868164e-05\n",
      "0.0002696861504765954\n"
     ]
    },
    {
     "data": {
      "text/plain": [
       "0.00031703112116863004"
      ]
     },
     "execution_count": 38,
     "metadata": {},
     "output_type": "execute_result"
    }
   ],
   "source": [
    "##Your solution here \n",
    "def cdf(prob,x,length,pmf):\n",
    "    ans = 0\n",
    "    for i in range(0,x+1):\n",
    "        oranges = length - i \n",
    "        apples = i\n",
    "        ans+= pmf(apples, oranges)\n",
    "    return ans\n",
    "\n",
    "cdf(p,4,20,pmf)"
   ]
  },
  {
   "cell_type": "raw",
   "metadata": {},
   "source": [
    "Plot the probability distributiom function for the above binomial \n",
    "distribution. \n",
    "Hint: The range of x in a binomial distribution is from 0 to 'n'"
   ]
  },
  {
   "cell_type": "code",
   "execution_count": 66,
   "metadata": {},
   "outputs": [
    {
     "data": {
      "text/plain": [
       "Text(0, 0.5, 'Probability')"
      ]
     },
     "execution_count": 66,
     "metadata": {},
     "output_type": "execute_result"
    },
    {
     "data": {
      "image/png": "[encoded data removed]",
      "text/plain": [
       "<Figure size 432x288 with 1 Axes>"
      ]
     },
     "metadata": {
      "needs_background": "light"
     },
     "output_type": "display_data"
    }
   ],
   "source": [
    "## Your code here\n",
    "\n",
    "listy = []\n",
    "x = np.arange(20)\n",
    "for i in x:\n",
    "    listy.append(pmf(i,20-i))\n",
    "fig, ax = plt.subplots(1, 1)\n",
    "ax.plot(x, listy, 'bs', alpha = .5)\n",
    "ax.vlines(x, 0, listy, colors='b', lw=5, alpha=0.5)\n",
    "plt.xlabel(\"Apples picked\")\n",
    "plt.ylabel(\"Probability\")"
   ]
  },
  {
   "cell_type": "code",
   "execution_count": 67,
   "metadata": {},
   "outputs": [],
   "source": [
    "#Please label the axes and give a title to the plot \n"
   ]
  },
  {
   "cell_type": "markdown",
   "metadata": {},
   "source": [
    "## Poisson Distribution"
   ]
  },
  {
   "cell_type": "raw",
   "metadata": {},
   "source": [
    "In this problem you are required to use the Math library in python to \n",
    "solve the problem"
   ]
  },
  {
   "cell_type": "raw",
   "metadata": {},
   "source": [
    "In the UEFA champions league tournament, the average number of goals \n",
    "scored in a match is 2.3. What is the probability that the number of \n",
    "goals scored in a match is 5?"
   ]
  },
  {
   "cell_type": "raw",
   "metadata": {},
   "source": [
    "Hint: Use the exp() in the math library \n",
    "And to find the factorial, you can use the following code:"
   ]
  },
  {
   "cell_type": "code",
   "execution_count": 77,
   "metadata": {},
   "outputs": [
    {
     "data": {
      "text/plain": [
       "0.05377502558194681"
      ]
     },
     "execution_count": 77,
     "metadata": {},
     "output_type": "execute_result"
    }
   ],
   "source": [
    "import math\n",
    "#math.factorial(n)\n",
    "#where n is the number you want to find the factorial of\n",
    "def poisson(lamb, i):\n",
    "    return (math.exp(-lamb))*((lamb**i)/math.factorial(i))\n",
    "poisson(1/2.3,5)\n"
   ]
  },
  {
   "cell_type": "code",
   "execution_count": 74,
   "metadata": {},
   "outputs": [],
   "source": [
    "## Your code here "
   ]
  },
  {
   "cell_type": "raw",
   "metadata": {},
   "source": [
    "Draw a poisson probability distribution plot for the number of goals \n",
    "to be between 0 to 10\n"
   ]
  },
  {
   "cell_type": "code",
   "execution_count": 75,
   "metadata": {},
   "outputs": [
    {
     "data": {
      "text/plain": [
       "<matplotlib.collections.LineCollection at 0x125d551d0>"
      ]
     },
     "execution_count": 75,
     "metadata": {},
     "output_type": "execute_result"
    },
    {
     "data": {
      "image/png": "[encoded data removed]",
      "text/plain": [
       "<Figure size 432x288 with 1 Axes>"
      ]
     },
     "metadata": {
      "needs_background": "light"
     },
     "output_type": "display_data"
    }
   ],
   "source": [
    "#Please label the axes and give a title to the plot \n",
    "x = np.arange(0,11)\n",
    "listy = []\n",
    "for i in x:\n",
    "    listy.append(poisson(2.3,i))\n",
    "fig, ax = plt.subplots(1, 1)\n",
    "ax.plot(x, listy, 'bo', ms=8, label='poisson pmf')\n",
    "ax.vlines(x, 0, listy, colors='b', lw=5, alpha=0.5)"
   ]
  }
 ],
 "metadata": {
  "kernelspec": {
   "display_name": "Python 3",
   "language": "python",
   "name": "python3"
  },
  "language_info": {
   "codemirror_mode": {
    "name": "ipython",
    "version": 3
   },
   "file_extension": ".py",
   "mimetype": "text/x-python",
   "name": "python",
   "nbconvert_exporter": "python",
   "pygments_lexer": "ipython3",
   "version": "3.7.2"
  }
 },
 "nbformat": 4,
 "nbformat_minor": 2
}
